{
  "cells": [
    {
      "cell_type": "markdown",
      "metadata": {
        "id": "view-in-github",
        "colab_type": "text"
      },
      "source": [
        "<a href=\"https://colab.research.google.com/github/rawanhussein77/Linear_Regression_Project/blob/main/Welcome_To_Colab.ipynb\" target=\"_parent\"><img src=\"https://colab.research.google.com/assets/colab-badge.svg\" alt=\"Open In Colab\"/></a>"
      ]
    },
    {
      "cell_type": "code",
      "source": [
        "import pandas as pd\n",
        "import numpy as np\n",
        "from sklearn.model_selection import train_test_split\n",
        "from sklearn.preprocessing import LabelEncoder, PolynomialFeatures\n",
        "from sklearn.linear_model import LinearRegression\n",
        "from sklearn.metrics import mean_squared_error, r2_score\n",
        "\n",
        "\n",
        "data = pd.read_csv(\"/content/Housing.csv\")\n",
        "\n",
        "\n",
        "categorical_columns = [\"mainroad\", \"guestroom\", \"basement\", \"hotwaterheating\", \"airconditioning\", \"prefarea\", \"furnishingstatus\"]\n",
        "label_encoders = {}\n",
        "\n",
        "for col in categorical_columns:\n",
        "    le = LabelEncoder()\n",
        "    data[col] = le.fit_transform(data[col])\n",
        "    label_encoders[col] = le\n",
        "\n",
        "\n",
        "X = data.drop(\"price\", axis=1)\n",
        "y = data[\"price\"]\n",
        "\n",
        "\n",
        "X = (X - X.mean()) / X.std()\n",
        "\n",
        "\n",
        "X_train, X_test, y_train, y_test = train_test_split(X, y, test_size=0.2, random_state=42)\n",
        "\n",
        "\n",
        "def linear_regression(X, y, learning_rate=0.01, epochs=1000):\n",
        "    n_samples, n_features = X.shape\n",
        "    weights = np.zeros(n_features)\n",
        "    bias = 0\n",
        "\n",
        "    for _ in range(epochs):\n",
        "        y_pred = np.dot(X, weights) + bias\n",
        "\n",
        "\n",
        "        dw = -(2 / n_samples) * np.dot(X.T, (y - y_pred))\n",
        "        db = -(2 / n_samples) * np.sum(y - y_pred)\n",
        "\n",
        "\n",
        "        weights -= learning_rate * dw\n",
        "        bias -= learning_rate * db\n",
        "\n",
        "    return weights, bias\n",
        "\n",
        "\n",
        "weights, bias = linear_regression(X_train.values, y_train.values)\n",
        "\n",
        "\n",
        "y_pred_manual = np.dot(X_test, weights) + bias\n",
        "\n",
        "\n",
        "mse_manual = mean_squared_error(y_test, y_pred_manual)\n",
        "r2_manual = r2_score(y_test, y_pred_manual)\n",
        "\n",
        "\n",
        "lr = LinearRegression()\n",
        "lr.fit(X_train, y_train)\n",
        "y_pred_sklearn = lr.predict(X_test)\n",
        "\n",
        "mse_sklearn = mean_squared_error(y_test, y_pred_sklearn)\n",
        "r2_sklearn = r2_score(y_test, y_pred_sklearn)\n",
        "\n",
        "\n",
        "print(\"Manual Linear Regression:\")\n",
        "print(f\"MSE: {mse_manual:.2f}, R2: {r2_manual:.2f}\")\n",
        "\n",
        "print(\"\\nSklearn Linear Regression:\")\n",
        "print(f\"MSE: {mse_sklearn:.2f}, R2: {r2_sklearn:.2f}\")\n",
        "\n",
        "\n",
        "if abs(r2_manual - r2_sklearn) > 0.1:\n",
        "    print(\"\\nConsider applying polynomial regression to improve model performance.\")\n",
        "\n",
        "\n",
        "    poly = PolynomialFeatures(degree=2)\n",
        "    X_train_poly = poly.fit_transform(X_train)\n",
        "    X_test_poly = poly.transform(X_test)\n",
        "\n",
        "\n",
        "    poly_model = LinearRegression()\n",
        "    poly_model.fit(X_train_poly, y_train)\n",
        "\n",
        "\n",
        "    y_pred_poly = poly_model.predict(X_test_poly)\n",
        "    mse_poly = mean_squared_error(y_test, y_pred_poly)\n",
        "    r2_poly = r2_score(y_test, y_pred_poly)\n",
        "\n",
        "    print(\"\\nPolynomial Regression:\")\n",
        "    print(f\"MSE: {mse_poly:.2f}, R2: {r2_poly:.2f}\")"
      ],
      "metadata": {
        "colab": {
          "base_uri": "https://localhost:8080/"
        },
        "id": "hjvMFG2Ub9jK",
        "outputId": "cb2a7ad2-b3cc-42dc-c4ff-60c38d9412c9"
      },
      "execution_count": 7,
      "outputs": [
        {
          "output_type": "stream",
          "name": "stdout",
          "text": [
            "Manual Linear Regression:\n",
            "MSE: 1771748528929.66, R2: 0.65\n",
            "\n",
            "Sklearn Linear Regression:\n",
            "MSE: 1771751116594.04, R2: 0.65\n"
          ]
        }
      ]
    }
  ],
  "metadata": {
    "colab": {
      "name": "Welcome To Colab",
      "toc_visible": true,
      "provenance": [],
      "include_colab_link": true
    },
    "kernelspec": {
      "display_name": "Python 3",
      "name": "python3"
    }
  },
  "nbformat": 4,
  "nbformat_minor": 0
}